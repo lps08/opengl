{
 "cells": [
  {
   "cell_type": "code",
   "execution_count": 1,
   "source": [
    "import pygame\r\n",
    "from pygame.locals import *\r\n",
    "\r\n",
    "from OpenGL.GL import *\r\n",
    "from OpenGL.GLU import *"
   ],
   "outputs": [
    {
     "output_type": "stream",
     "name": "stdout",
     "text": [
      "pygame 2.0.1 (SDL 2.0.14, Python 3.8.8)\n",
      "Hello from the pygame community. https://www.pygame.org/contribute.html\n"
     ]
    }
   ],
   "metadata": {}
  },
  {
   "cell_type": "code",
   "execution_count": 2,
   "source": [
    "vertices = (\r\n",
    "    (1, -1, -1),\r\n",
    "    (1, 1, -1),\r\n",
    "    (-1, 1, -1),\r\n",
    "    (-1, -1, -1),\r\n",
    "    (1, -1, 1),\r\n",
    "    (1, 1, 1),\r\n",
    "    (-1, -1, 1),\r\n",
    "    (-1, 1, 1),\r\n",
    ")\r\n",
    "\r\n",
    "edges = (\r\n",
    "    (0, 1),\r\n",
    "    (0, 3),\r\n",
    "    (0, 4),\r\n",
    "    (2, 1),\r\n",
    "    (2, 3),\r\n",
    "    (2, 7),\r\n",
    "    (6, 3),\r\n",
    "    (6, 4),\r\n",
    "    (6, 7),\r\n",
    "    (5, 1),\r\n",
    "    (5, 4),\r\n",
    "    (5, 7),\r\n",
    ")"
   ],
   "outputs": [],
   "metadata": {}
  },
  {
   "cell_type": "code",
   "execution_count": 3,
   "source": [
    "def cube():\r\n",
    "    glBegin(GL_LINES)\r\n",
    "\r\n",
    "    for edge in edges:\r\n",
    "        for vertex in edge:\r\n",
    "            glVertex3fv(vertices[vertex])\r\n",
    "    glEnd()"
   ],
   "outputs": [],
   "metadata": {}
  },
  {
   "cell_type": "code",
   "execution_count": 4,
   "source": [
    "def main():\r\n",
    "    pygame.init()\r\n",
    "    display = (800, 600)\r\n",
    "    pygame.display.set_mode(display, DOUBLEBUF|OPENGL)\r\n",
    "\r\n",
    "    gluPerspective(45, (display[0]/display[1]), 0.1, 100.0)\r\n",
    "\r\n",
    "    glTranslatef(0.0, 0.0, -5)\r\n",
    "\r\n",
    "    glRotatef(0, 0, 0, 0)\r\n",
    "\r\n",
    "    while True:\r\n",
    "        for event in pygame.event.get():\r\n",
    "            if event.type == pygame.QUIT:\r\n",
    "                pygame.quit()\r\n",
    "                quit()\r\n",
    "\r\n",
    "        glRotatef(1, 3, 1, 1)\r\n",
    "        glClear(GL_COLOR_BUFFER_BIT|GL_DEPTH_BUFFER_BIT)\r\n",
    "        cube()\r\n",
    "        pygame.display.flip()\r\n",
    "        pygame.time.wait(10)\r\n",
    "\r\n",
    "main()"
   ],
   "outputs": [],
   "metadata": {}
  }
 ],
 "metadata": {
  "orig_nbformat": 4,
  "language_info": {
   "name": "python",
   "version": "3.8.8",
   "mimetype": "text/x-python",
   "codemirror_mode": {
    "name": "ipython",
    "version": 3
   },
   "pygments_lexer": "ipython3",
   "nbconvert_exporter": "python",
   "file_extension": ".py"
  },
  "kernelspec": {
   "name": "python3",
   "display_name": "Python 3.8.8 64-bit ('base': conda)"
  },
  "interpreter": {
   "hash": "fa5f9981faff3e28c5b655bc581dda5a664ac098a4a1ee3f1bf9a902edcbe862"
  }
 },
 "nbformat": 4,
 "nbformat_minor": 2
}